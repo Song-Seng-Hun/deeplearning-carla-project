{
 "cells": [
  {
   "cell_type": "markdown",
   "metadata": {},
   "source": [
    "## Example"
   ]
  },
  {
   "cell_type": "code",
   "execution_count": 1,
   "metadata": {},
   "outputs": [
    {
     "name": "stdout",
     "output_type": "stream",
     "text": [
      "2.0.0+cu117\n"
     ]
    },
    {
     "data": {
      "text/plain": [
       "True"
      ]
     },
     "execution_count": 1,
     "metadata": {},
     "output_type": "execute_result"
    }
   ],
   "source": [
    "import torch\n",
    "import cv2\n",
    "from sklearn.model_selection import train_test_split\n",
    "from glob import glob\n",
    "import yaml\n",
    "from ultralytics import YOLO\n",
    "import matplotlib.pyplot as plt\n",
    "from PIL import Image\n",
    "import random\n",
    "\n",
    "torch.cuda.empty_cache()\n",
    "print(torch.__version__)\n",
    "torch.cuda.is_available()"
   ]
  },
  {
   "cell_type": "code",
   "execution_count": 2,
   "metadata": {},
   "outputs": [
    {
     "name": "stdout",
     "output_type": "stream",
     "text": [
      "GPU 0: NVIDIA GeForce RTX 2060 (UUID: GPU-fc13721f-4d37-efb9-607c-d703f5e331d6)\n"
     ]
    }
   ],
   "source": [
    "!nvidia-smi -L"
   ]
  },
  {
   "cell_type": "code",
   "execution_count": 3,
   "metadata": {},
   "outputs": [
    {
     "data": {
      "text/plain": [
       "592"
      ]
     },
     "execution_count": 3,
     "metadata": {},
     "output_type": "execute_result"
    }
   ],
   "source": [
    "seed = random.randint(0, 1000)\n",
    "seed"
   ]
  },
  {
   "cell_type": "markdown",
   "metadata": {},
   "source": [
    "## 데이터 준비"
   ]
  },
  {
   "cell_type": "code",
   "execution_count": 4,
   "metadata": {},
   "outputs": [
    {
     "data": {
      "text/plain": [
       "(9267, 9267)"
      ]
     },
     "execution_count": 4,
     "metadata": {},
     "output_type": "execute_result"
    }
   ],
   "source": [
    "img_list = glob('D:/workspace/data/total_data.yolov8/train/images/*jpg')\n",
    "label_list = glob('D:/workspace/data/total_data.yolov8/train/labels/*txt')\n",
    "\n",
    "len(img_list), len(label_list)"
   ]
  },
  {
   "cell_type": "code",
   "execution_count": 5,
   "metadata": {},
   "outputs": [
    {
     "data": {
      "text/plain": [
       "(7413, 1854)"
      ]
     },
     "execution_count": 5,
     "metadata": {},
     "output_type": "execute_result"
    }
   ],
   "source": [
    "train_img_list, val_img_list = train_test_split(img_list, test_size=0.2, random_state=13)\n",
    "len(train_img_list), len(val_img_list)"
   ]
  },
  {
   "cell_type": "code",
   "execution_count": 6,
   "metadata": {},
   "outputs": [],
   "source": [
    "with open('D:/workspace/data/total_data.yolov8/train.txt', 'w') as f :\n",
    "  f.write('\\n'.join(train_img_list) + '\\n')\n",
    "\n",
    "with open('D:/workspace/data/total_data.yolov8/val.txt', 'w') as f :\n",
    "  f.write('\\n'.join(val_img_list) + '\\n')"
   ]
  },
  {
   "cell_type": "markdown",
   "metadata": {},
   "source": [
    "## 모델준비"
   ]
  },
  {
   "cell_type": "code",
   "execution_count": 7,
   "metadata": {},
   "outputs": [],
   "source": [
    "data = {\n",
    "    'train' : 'D:/workspace/data/total_data.yolov8/train.txt',\n",
    "    'val' : 'D:/workspace/data/total_data.yolov8/val.txt',\n",
    "    'nc' : 7,\n",
    "    'names' : ['green', 'pedesatrian', 'red', 'speed_limit', 'vehicle', 'yellow', 'crosswalk']\n",
    "}\n",
    "\n",
    "with open('D:/workspace/data/total_data.yolov8/data.yaml', 'w') as f :\n",
    "    yaml.dump(data, f)"
   ]
  },
  {
   "cell_type": "code",
   "execution_count": 8,
   "metadata": {},
   "outputs": [
    {
     "name": "stdout",
     "output_type": "stream",
     "text": [
      "names:\n",
      "- green\n",
      "- pedesatrian\n",
      "- red\n",
      "- speed_limit\n",
      "- vehicle\n",
      "- yellow\n",
      "- crosswalk\n",
      "nc: 7\n",
      "train: D:/workspace/data/total_data.yolov8/train.txt\n",
      "val: D:/workspace/data/total_data.yolov8/val.txt\n"
     ]
    }
   ],
   "source": [
    "data = 'D:/workspace/data/total_data.yolov8/data.yaml'\n",
    "!cat {data}"
   ]
  },
  {
   "cell_type": "code",
   "execution_count": 9,
   "metadata": {},
   "outputs": [
    {
     "data": {
      "text/plain": [
       "<ultralytics.yolo.engine.model.YOLO at 0x2acd9f5e2b0>"
      ]
     },
     "execution_count": 9,
     "metadata": {},
     "output_type": "execute_result"
    }
   ],
   "source": [
    "model = YOLO(\"D:/workspace/src/runs/detect/train/weights/best.pt\")\n",
    "model"
   ]
  },
  {
   "cell_type": "markdown",
   "metadata": {},
   "source": [
    "## 학습"
   ]
  },
  {
   "cell_type": "code",
   "execution_count": null,
   "metadata": {
    "scrolled": true
   },
   "outputs": [],
   "source": [
    "!yolo task=detect mode=train data={data} seed={seed} pretrained=D:/workspace/src/runs/detect/train/weights/best.pt model=yolov8l.yaml cache=False epochs=300 batch=-1 imgsz=320 plots=True dropout=0 optimizer='AdamW' verbose=True exist_ok=True save_period=5 device=0 patience=20 lr0=0.01 lrf=0.005 close_mosaic=1  "
   ]
  },
  {
   "cell_type": "code",
   "execution_count": null,
   "metadata": {},
   "outputs": [],
   "source": [
    "plt.figure(figsize=(12,16))\n",
    "image = cv2.imread('D:/workspace/src/runs/detect/train/results.png')\n",
    "image = cv2.cvtColor(image, cv2.COLOR_BGR2RGB)\n",
    "plt.imshow(image)\n",
    "plt.show();"
   ]
  },
  {
   "cell_type": "markdown",
   "metadata": {},
   "source": [
    "## 테스트"
   ]
  },
  {
   "cell_type": "code",
   "execution_count": null,
   "metadata": {},
   "outputs": [],
   "source": [
    "model = YOLO(\"D:/workspace/src/runs/detect/train/weights/best.pt\")\n",
    "model"
   ]
  },
  {
   "cell_type": "code",
   "execution_count": null,
   "metadata": {
    "scrolled": true
   },
   "outputs": [],
   "source": [
    "image = cv2.imread('D:/workspace/data/test.jpg')\n",
    "font = cv2.FONT_HERSHEY_SIMPLEX\n",
    "font_scale = 3\n",
    "color = (0, 0, 255) # BGR color format\n",
    "thickness = 5\n",
    "\n",
    "result = model(image)[0]\n",
    "boxes = result.boxes.data\n",
    "print(boxes)\n",
    "for box in boxes :\n",
    "  x1, y1, x2, y2 ,c,idx = box\n",
    "  # Draw a rectangle around the detected person\n",
    "  cv2.rectangle(image, (int(x1), int(y1)), (int(x2), int(y2)), (0, 255, 0), thickness)\n",
    "  # Add the text to the image\n",
    "  cv2.putText(image, result.names[int(idx)] + \" \" + str(round(float(c),2)), (int(x1), int(y1)-10), font, font_scale, color, thickness)\n",
    "image = cv2.cvtColor(image, cv2.COLOR_BGR2RGB)\n",
    "# Display the image\n",
    "plt.imshow(image)\n",
    "plt.show();"
   ]
  },
  {
   "cell_type": "code",
   "execution_count": null,
   "metadata": {
    "scrolled": true
   },
   "outputs": [],
   "source": [
    "image = cv2.imread('D:/workspace/data/test2.jpg')\n",
    "font = cv2.FONT_HERSHEY_SIMPLEX\n",
    "font_scale = 3\n",
    "color = (0, 0, 255) # BGR color format\n",
    "thickness = 5\n",
    "\n",
    "result = model(image)[0]\n",
    "boxes = result.boxes.data\n",
    "print(boxes)\n",
    "for box in boxes :\n",
    "  x1, y1, x2, y2 ,c,idx = box\n",
    "  # Draw a rectangle around the detected person\n",
    "  cv2.rectangle(image, (int(x1), int(y1)), (int(x2), int(y2)), (0, 255, 0), thickness)\n",
    "  # Add the text to the image\n",
    "  cv2.putText(image, result.names[int(idx)] + \" \" + str(round(float(c),2)), (int(x1), int(y1)-10), font, font_scale, color, thickness)\n",
    "image = cv2.cvtColor(image, cv2.COLOR_BGR2RGB)\n",
    "# Display the image\n",
    "plt.imshow(image)\n",
    "plt.show();"
   ]
  },
  {
   "cell_type": "code",
   "execution_count": null,
   "metadata": {},
   "outputs": [],
   "source": [
    "image = cv2.imread('D:/workspace/data/test3.jpg')\n",
    "font = cv2.FONT_HERSHEY_SIMPLEX\n",
    "font_scale = 3\n",
    "color = (0, 0, 255) # BGR color format\n",
    "thickness = 5\n",
    "\n",
    "result = model(image)[0]\n",
    "boxes = result.boxes.data\n",
    "print(boxes)\n",
    "for box in boxes :\n",
    "  x1, y1, x2, y2 ,c,idx = box\n",
    "  # Draw a rectangle around the detected person\n",
    "  cv2.rectangle(image, (int(x1), int(y1)), (int(x2), int(y2)), (0, 255, 0), thickness)\n",
    "  # Add the text to the image\n",
    "  cv2.putText(image, result.names[int(idx)] + \" \" + str(round(float(c),2)), (int(x1), int(y1)-10), font, font_scale, color, thickness)\n",
    "image = cv2.cvtColor(image, cv2.COLOR_BGR2RGB)\n",
    "# Display the image\n",
    "plt.imshow(image)\n",
    "plt.show();"
   ]
  },
  {
   "cell_type": "code",
   "execution_count": null,
   "metadata": {
    "scrolled": true
   },
   "outputs": [],
   "source": [
    "image = cv2.imread('D:/workspace/data/test4.png')\n",
    "font = cv2.FONT_HERSHEY_SIMPLEX\n",
    "font_scale = 3\n",
    "color = (0, 0, 255) # BGR color format\n",
    "thickness = 5\n",
    "\n",
    "result = model(image)[0]\n",
    "boxes = result.boxes.data\n",
    "print(boxes)\n",
    "for box in boxes :\n",
    "  x1, y1, x2, y2 ,c,idx = box\n",
    "  # Draw a rectangle around the detected person\n",
    "  cv2.rectangle(image, (int(x1), int(y1)), (int(x2), int(y2)), (0, 255, 0), thickness)\n",
    "  # Add the text to the image\n",
    "  cv2.putText(image, result.names[int(idx)] + \" \" + str(round(float(c),2)), (int(x1), int(y1)-10), font, font_scale, color, thickness)\n",
    "image = cv2.cvtColor(image, cv2.COLOR_BGR2RGB)\n",
    "# Display the image\n",
    "plt.imshow(image)\n",
    "plt.show();"
   ]
  },
  {
   "cell_type": "code",
   "execution_count": null,
   "metadata": {},
   "outputs": [],
   "source": []
  },
  {
   "cell_type": "code",
   "execution_count": null,
   "metadata": {},
   "outputs": [],
   "source": []
  },
  {
   "cell_type": "code",
   "execution_count": null,
   "metadata": {},
   "outputs": [],
   "source": []
  }
 ],
 "metadata": {
  "kernelspec": {
   "display_name": "Python 3 (ipykernel)",
   "language": "python",
   "name": "python3"
  },
  "language_info": {
   "codemirror_mode": {
    "name": "ipython",
    "version": 3
   },
   "file_extension": ".py",
   "mimetype": "text/x-python",
   "name": "python",
   "nbconvert_exporter": "python",
   "pygments_lexer": "ipython3",
   "version": "3.8.16"
  }
 },
 "nbformat": 4,
 "nbformat_minor": 2
}
